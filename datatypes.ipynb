{
  "metadata": {
    "language_info": {
      "codemirror_mode": {
        "name": "python",
        "version": 3
      },
      "file_extension": ".py",
      "mimetype": "text/x-python",
      "name": "python",
      "nbconvert_exporter": "python",
      "pygments_lexer": "ipython3",
      "version": "3.8"
    },
    "kernelspec": {
      "name": "python",
      "display_name": "Python (Pyodide)",
      "language": "python"
    }
  },
  "nbformat_minor": 4,
  "nbformat": 4,
  "cells": [
    {
      "cell_type": "code",
      "source": "#Copy\nt1={1,2,3}\ncopy_set=t1.copy()\nprint(copy_set)",
      "metadata": {
        "trusted": true
      },
      "execution_count": 1,
      "outputs": [
        {
          "name": "stdout",
          "text": "{1, 2, 3}\n",
          "output_type": "stream"
        }
      ]
    },
    {
      "cell_type": "code",
      "source": "#difference\nt1 = {1,2,3}\nt2 = {3,4,5}\ndifference =t1.difference(t2)\nprint(difference)",
      "metadata": {
        "trusted": true
      },
      "execution_count": 2,
      "outputs": [
        {
          "name": "stdout",
          "text": "{1, 2}\n",
          "output_type": "stream"
        }
      ]
    },
    {
      "cell_type": "code",
      "source": "#Intersection\nt1 = {1,2,3}\nt2 = {3,4,5}\nintersection = t1.intersection(t2)\nprint(intersection)",
      "metadata": {
        "trusted": true
      },
      "execution_count": 3,
      "outputs": [
        {
          "name": "stdout",
          "text": "{3}\n",
          "output_type": "stream"
        }
      ]
    },
    {
      "cell_type": "code",
      "source": "#Issubset\nt1 = {1,2,3}\nt2 = {1,2,3,4,5}\nis_subset = t1.issubset(t2)\nprint(is_subset)",
      "metadata": {
        "trusted": true
      },
      "execution_count": 2,
      "outputs": [
        {
          "name": "stdout",
          "text": "True\n",
          "output_type": "stream"
        }
      ]
    },
    {
      "cell_type": "code",
      "source": "#issuperset\nt1 = {1,2,3,4,5}\nt2 = {3,4}\nis_superset = t1.issuperset(t2)\nprint(is_superset)",
      "metadata": {
        "trusted": true
      },
      "execution_count": 1,
      "outputs": [
        {
          "name": "stdout",
          "text": "True\n",
          "output_type": "stream"
        }
      ]
    },
    {
      "cell_type": "code",
      "source": "#symmetric_difference\nt1={1,2,3}\nt2={3,4,5}\nsymmetric_difference =t1.symmetric_difference(t2)\nprint(symmetric_difference)",
      "metadata": {
        "trusted": true
      },
      "execution_count": 4,
      "outputs": [
        {
          "name": "stdout",
          "text": "{1, 2, 4, 5}\n",
          "output_type": "stream"
        }
      ]
    },
    {
      "cell_type": "code",
      "source": "#Union\nt1 = {1,2,3}\nt2 = {3,4,5}\nunion_set = t1.union(t2)\nprint(union_set)",
      "metadata": {
        "trusted": true
      },
      "execution_count": 6,
      "outputs": [
        {
          "name": "stdout",
          "text": "{1, 2, 3, 4, 5}\n",
          "output_type": "stream"
        }
      ]
    },
    {
      "cell_type": "code",
      "source": "#Isdisjoint\nt1 = {1,2,3}\nt2 = {4,5,6}\nis_disjoint = t1.isdisjoint(t2)\nprint(is_disjoint)",
      "metadata": {
        "trusted": true
      },
      "execution_count": 3,
      "outputs": [
        {
          "name": "stdout",
          "text": "True\n",
          "output_type": "stream"
        }
      ]
    }
  ]
}