{
  "nbformat": 4,
  "nbformat_minor": 0,
  "metadata": {
    "colab": {
      "private_outputs": true,
      "provenance": []
    },
    "kernelspec": {
      "name": "python3",
      "display_name": "Python 3"
    },
    "language_info": {
      "name": "python"
    }
  },
  "cells": [
    {
      "cell_type": "code",
      "execution_count": null,
      "metadata": {
        "id": "um99kojsTguU"
      },
      "outputs": [],
      "source": [
        "l1=[1,2,3,4]"
      ]
    },
    {
      "cell_type": "markdown",
      "source": [
        "expetecd output is =[2,4,6,8]"
      ],
      "metadata": {
        "id": "O531xp4XT7df"
      }
    },
    {
      "cell_type": "code",
      "source": [
        "l1*2"
      ],
      "metadata": {
        "id": "4k6rwBTMUFkg"
      },
      "execution_count": null,
      "outputs": []
    },
    {
      "cell_type": "code",
      "source": [
        "l2=[]\n",
        "for i in l1:\n",
        "    l2.append(i*2)\n",
        "print(l2)\n",
        "#time compexity is 0(n)"
      ],
      "metadata": {
        "id": "GWIF2xFZUIVn"
      },
      "execution_count": null,
      "outputs": []
    },
    {
      "cell_type": "code",
      "source": [
        "t1=(1,2,3,5,5,6)"
      ],
      "metadata": {
        "id": "nzC2dotTU6yi"
      },
      "execution_count": null,
      "outputs": []
    },
    {
      "cell_type": "code",
      "source": [
        "t1"
      ],
      "metadata": {
        "id": "0GUZ_zXNUSLf"
      },
      "execution_count": null,
      "outputs": []
    },
    {
      "cell_type": "code",
      "source": [
        "len(t1)"
      ],
      "metadata": {
        "id": "rM8Jwj0XVAWU"
      },
      "execution_count": null,
      "outputs": []
    },
    {
      "cell_type": "code",
      "source": [
        "max(t1)"
      ],
      "metadata": {
        "id": "8aT_vXybVB_j"
      },
      "execution_count": null,
      "outputs": []
    },
    {
      "cell_type": "code",
      "source": [
        "max(\"w\",\"e\")"
      ],
      "metadata": {
        "id": "paJoecA1VGK5"
      },
      "execution_count": null,
      "outputs": []
    },
    {
      "cell_type": "code",
      "source": [
        "max(1,\"w\",\"e\")"
      ],
      "metadata": {
        "id": "C2Hr7oxGVLRL"
      },
      "execution_count": null,
      "outputs": []
    },
    {
      "cell_type": "code",
      "source": [
        "#pythom 3 is error\n",
        "#python 2 is it compare\n",
        "35>20"
      ],
      "metadata": {
        "id": "hSkA7gmrVV-G"
      },
      "execution_count": null,
      "outputs": []
    },
    {
      "cell_type": "code",
      "source": [
        "\"35\">20#python 2 it is True\n",
        "#python 3 is error"
      ],
      "metadata": {
        "id": "Sq8gwWEkVp_R"
      },
      "execution_count": null,
      "outputs": []
    },
    {
      "cell_type": "code",
      "source": [
        "!python --version"
      ],
      "metadata": {
        "id": "J7FdOQ-nV6uM"
      },
      "execution_count": null,
      "outputs": []
    },
    {
      "cell_type": "code",
      "source": [
        "a=input(\"enter the values: \")\n"
      ],
      "metadata": {
        "id": "TOOECdbjVuc2"
      },
      "execution_count": null,
      "outputs": []
    },
    {
      "cell_type": "code",
      "source": [
        "t3=tuple(a.split( ))"
      ],
      "metadata": {
        "id": "GdB4go4DWqe_"
      },
      "execution_count": null,
      "outputs": []
    },
    {
      "cell_type": "code",
      "source": [
        "t3"
      ],
      "metadata": {
        "id": "VuSBaIq8Wwqw"
      },
      "execution_count": null,
      "outputs": []
    },
    {
      "cell_type": "code",
      "source": [
        "max(\"a\",\"2\",\"w\",\"5\")"
      ],
      "metadata": {
        "id": "K4sKj8KuWxL6"
      },
      "execution_count": null,
      "outputs": []
    },
    {
      "cell_type": "code",
      "source": [
        "min(\"a\",\"2\",\"w\",\"5\")"
      ],
      "metadata": {
        "id": "Azz91qoNXWIS"
      },
      "execution_count": null,
      "outputs": []
    },
    {
      "cell_type": "code",
      "source": [
        "l3=[1,2,[1,2,3],4] #list inside list or two dimensional\n",
        "l3\n"
      ],
      "metadata": {
        "id": "ZGMc0slYXXZP"
      },
      "execution_count": null,
      "outputs": []
    },
    {
      "cell_type": "code",
      "source": [
        "#list and tuple containers"
      ],
      "metadata": {
        "id": "G-UfrBoDXq4_"
      },
      "execution_count": null,
      "outputs": []
    },
    {
      "cell_type": "code",
      "source": [
        "l3[2][1]"
      ],
      "metadata": {
        "id": "QLpzq1bgX8X-"
      },
      "execution_count": null,
      "outputs": []
    },
    {
      "cell_type": "code",
      "source": [
        "l4=[1,2,[\"ganesh\",\"radha\",3],4]\n",
        "l4"
      ],
      "metadata": {
        "id": "3VtNL1bQYDCN"
      },
      "execution_count": null,
      "outputs": []
    },
    {
      "cell_type": "code",
      "source": [
        "l4[2][0]"
      ],
      "metadata": {
        "id": "5e00OJTFYSbD"
      },
      "execution_count": null,
      "outputs": []
    },
    {
      "cell_type": "code",
      "source": [
        "l5=[1,2,[\"ganesh\",\"radha\",3,[1,2,\"shimakh\"]],4]\n",
        "l5"
      ],
      "metadata": {
        "id": "5DaSiNtIYQZx"
      },
      "execution_count": null,
      "outputs": []
    },
    {
      "cell_type": "code",
      "source": [
        "l5[2][3][2]"
      ],
      "metadata": {
        "id": "QJhS4hBJaFnK"
      },
      "execution_count": null,
      "outputs": []
    },
    {
      "cell_type": "code",
      "source": [
        "l1"
      ],
      "metadata": {
        "id": "FDwxgjfeaZJg"
      },
      "execution_count": null,
      "outputs": []
    },
    {
      "cell_type": "code",
      "source": [
        "#deleting value from list:\n",
        "del l1[1]#it takes index value\n",
        "#del is opposite of assignment operator"
      ],
      "metadata": {
        "id": "lT7MRHvVaa8V"
      },
      "execution_count": null,
      "outputs": []
    },
    {
      "cell_type": "code",
      "source": [
        "l1"
      ],
      "metadata": {
        "id": "lka-OAddalMJ"
      },
      "execution_count": null,
      "outputs": []
    },
    {
      "cell_type": "code",
      "source": [
        "a=[10,20,30]"
      ],
      "metadata": {
        "id": "qbCBrLjHamRl"
      },
      "execution_count": null,
      "outputs": []
    },
    {
      "cell_type": "code",
      "source": [
        "l=10"
      ],
      "metadata": {
        "id": "xo7o8-M8blc1"
      },
      "execution_count": null,
      "outputs": []
    },
    {
      "cell_type": "code",
      "source": [
        "id(a)"
      ],
      "metadata": {
        "id": "z-l64VMRbce2"
      },
      "execution_count": null,
      "outputs": []
    },
    {
      "cell_type": "code",
      "source": [
        "id(l)"
      ],
      "metadata": {
        "id": "jjVUpJx1bpzS"
      },
      "execution_count": null,
      "outputs": []
    },
    {
      "cell_type": "code",
      "source": [
        "del a[0]"
      ],
      "metadata": {
        "id": "QyXfdVBbbeQY"
      },
      "execution_count": null,
      "outputs": []
    },
    {
      "cell_type": "code",
      "source": [
        "id(a[0])"
      ],
      "metadata": {
        "id": "QcoSF_3eby-A"
      },
      "execution_count": null,
      "outputs": []
    },
    {
      "cell_type": "code",
      "source": [
        "a"
      ],
      "metadata": {
        "id": "zrg4_XUVb3FZ"
      },
      "execution_count": null,
      "outputs": []
    },
    {
      "cell_type": "code",
      "source": [
        "id(a[0])"
      ],
      "metadata": {
        "id": "abQKUyGqcKZ3"
      },
      "execution_count": null,
      "outputs": []
    },
    {
      "cell_type": "code",
      "source": [
        "id(l)"
      ],
      "metadata": {
        "id": "3GqC4n0YcQmq"
      },
      "execution_count": null,
      "outputs": []
    },
    {
      "cell_type": "code",
      "source": [
        "a[0]"
      ],
      "metadata": {
        "id": "3qTo577KcR5t"
      },
      "execution_count": null,
      "outputs": []
    },
    {
      "cell_type": "code",
      "source": [
        "#indexing definition is changing"
      ],
      "metadata": {
        "id": "j6qAW9hAca1S"
      },
      "execution_count": null,
      "outputs": []
    },
    {
      "cell_type": "code",
      "source": [
        "a=[10,20,10,30]"
      ],
      "metadata": {
        "id": "_wD-vefLef21"
      },
      "execution_count": null,
      "outputs": []
    },
    {
      "cell_type": "code",
      "source": [
        "id(a[0])==id(a[2])"
      ],
      "metadata": {
        "id": "MncdN6UIey-p"
      },
      "execution_count": null,
      "outputs": []
    },
    {
      "cell_type": "code",
      "source": [
        "b=(10,20,10,30)"
      ],
      "metadata": {
        "id": "Y-sBRj5ve5Lv"
      },
      "execution_count": null,
      "outputs": []
    },
    {
      "cell_type": "code",
      "source": [
        "id(b[0])==id(b[2])"
      ],
      "metadata": {
        "id": "Vp2vX-XXfDfP"
      },
      "execution_count": null,
      "outputs": []
    },
    {
      "cell_type": "code",
      "source": [
        "c=b[:]"
      ],
      "metadata": {
        "id": "rIbi7WbPfJJo"
      },
      "execution_count": null,
      "outputs": []
    },
    {
      "cell_type": "code",
      "source": [
        "id(b)==id(c)#it is immutable"
      ],
      "metadata": {
        "id": "QN4nvFiJfMRb"
      },
      "execution_count": null,
      "outputs": []
    },
    {
      "cell_type": "code",
      "source": [
        "d=a[:]"
      ],
      "metadata": {
        "id": "CsAS3Q39fY3q"
      },
      "execution_count": null,
      "outputs": []
    },
    {
      "cell_type": "code",
      "source": [
        "id(a)==id(d)#it is mutable"
      ],
      "metadata": {
        "id": "Y_0hMq9qfb1K"
      },
      "execution_count": null,
      "outputs": []
    },
    {
      "cell_type": "code",
      "source": [
        "list1=[1,2,3,4,6,7]\n",
        "#expetcd ot is [2,4,6]\n",
        "l6=[]\n",
        "for i in list1:\n",
        "    if i%2==1:#remiander\n",
        "        l6.append(i)\n",
        "print(l6)\n"
      ],
      "metadata": {
        "id": "d3AyiXBhfgMl"
      },
      "execution_count": null,
      "outputs": []
    },
    {
      "cell_type": "markdown",
      "source": [
        "#list----->tuple\n",
        "#tuple---->list"
      ],
      "metadata": {
        "id": "QvPImGyNg2Eo"
      }
    },
    {
      "cell_type": "code",
      "source": [
        "l1=[(\"2\",1),(\"1\",2)]"
      ],
      "metadata": {
        "id": "-kAlTenogRPF"
      },
      "execution_count": null,
      "outputs": []
    },
    {
      "cell_type": "code",
      "source": [
        "l1"
      ],
      "metadata": {
        "id": "PSxtQ18ChLtk"
      },
      "execution_count": null,
      "outputs": []
    },
    {
      "cell_type": "code",
      "source": [
        "l1.sort()"
      ],
      "metadata": {
        "id": "kyzFrslxhMqc"
      },
      "execution_count": null,
      "outputs": []
    },
    {
      "cell_type": "code",
      "source": [
        "l1#it will sort the first occurance of elemnt in tuple"
      ],
      "metadata": {
        "id": "KhPYHuL1hR7l"
      },
      "execution_count": null,
      "outputs": []
    },
    {
      "cell_type": "code",
      "source": [
        "a=1+2j#real value 1, imaginary is 2"
      ],
      "metadata": {
        "id": "IrJlBB47hVBW"
      },
      "execution_count": null,
      "outputs": []
    },
    {
      "cell_type": "code",
      "source": [
        "a."
      ],
      "metadata": {
        "id": "6BO0bCJIh8z2"
      },
      "execution_count": null,
      "outputs": []
    },
    {
      "cell_type": "code",
      "source": [
        "a.conjugate()"
      ],
      "metadata": {
        "id": "Aww6CSXCh9jy"
      },
      "execution_count": null,
      "outputs": []
    },
    {
      "cell_type": "code",
      "source": [
        "a.imag#it is printing float"
      ],
      "metadata": {
        "id": "YLp9OofriDr6"
      },
      "execution_count": null,
      "outputs": []
    },
    {
      "cell_type": "code",
      "source": [
        "a.real"
      ],
      "metadata": {
        "id": "IVjAk3frjGIT"
      },
      "execution_count": null,
      "outputs": []
    },
    {
      "cell_type": "code",
      "source": [
        "abs(a)"
      ],
      "metadata": {
        "id": "QHN5SWLdjSrR"
      },
      "execution_count": null,
      "outputs": []
    },
    {
      "cell_type": "code",
      "source": [
        "a=complex(1,2)"
      ],
      "metadata": {
        "id": "vcxLCYufjgv3"
      },
      "execution_count": null,
      "outputs": []
    },
    {
      "cell_type": "code",
      "source": [
        "a"
      ],
      "metadata": {
        "id": "xZko6hahj_CP"
      },
      "execution_count": null,
      "outputs": []
    },
    {
      "cell_type": "code",
      "source": [
        "?complex"
      ],
      "metadata": {
        "id": "EA-nuF6rj_1T"
      },
      "execution_count": null,
      "outputs": []
    },
    {
      "cell_type": "code",
      "source": [
        "b=2"
      ],
      "metadata": {
        "id": "F4JGAYgbkDWf"
      },
      "execution_count": null,
      "outputs": []
    },
    {
      "cell_type": "code",
      "source": [
        "c=float(b)"
      ],
      "metadata": {
        "id": "s_QcWcO2kMdY"
      },
      "execution_count": null,
      "outputs": []
    },
    {
      "cell_type": "code",
      "source": [
        "c"
      ],
      "metadata": {
        "id": "t7cn22qJkPpP"
      },
      "execution_count": null,
      "outputs": []
    },
    {
      "cell_type": "code",
      "source": [
        "str(2)"
      ],
      "metadata": {
        "id": "ROH595I4kQT6"
      },
      "execution_count": null,
      "outputs": []
    },
    {
      "cell_type": "code",
      "source": [
        "2*3"
      ],
      "metadata": {
        "id": "xJwy9MW_kUXj"
      },
      "execution_count": null,
      "outputs": []
    },
    {
      "cell_type": "code",
      "source": [
        "2**3"
      ],
      "metadata": {
        "id": "qJTcPaEskZvT"
      },
      "execution_count": null,
      "outputs": []
    },
    {
      "cell_type": "code",
      "source": [
        "pow(2,3)"
      ],
      "metadata": {
        "id": "dJMpa4wfkbi7"
      },
      "execution_count": null,
      "outputs": []
    },
    {
      "cell_type": "code",
      "source": [
        "bool(1)"
      ],
      "metadata": {
        "id": "2h67zFgGkr6x"
      },
      "execution_count": null,
      "outputs": []
    },
    {
      "cell_type": "code",
      "source": [
        "bool(\"2\")"
      ],
      "metadata": {
        "id": "rUrSrIGPkwR5"
      },
      "execution_count": null,
      "outputs": []
    },
    {
      "cell_type": "code",
      "source": [
        "bool()"
      ],
      "metadata": {
        "id": "bPs1KgwLkz8J"
      },
      "execution_count": null,
      "outputs": []
    },
    {
      "cell_type": "code",
      "source": [
        "1+\"2\""
      ],
      "metadata": {
        "id": "AJqGqi2Yk2A6"
      },
      "execution_count": null,
      "outputs": []
    },
    {
      "cell_type": "code",
      "source": [
        "1+int(\"2\")"
      ],
      "metadata": {
        "id": "VwqAOSdelSXa"
      },
      "execution_count": null,
      "outputs": []
    },
    {
      "cell_type": "code",
      "source": [
        "1+eval(\"2\")"
      ],
      "metadata": {
        "id": "n_8iFmGlk_SE"
      },
      "execution_count": null,
      "outputs": []
    },
    {
      "cell_type": "code",
      "source": [
        "1+int(\"w\")"
      ],
      "metadata": {
        "id": "TUblbpDUladM"
      },
      "execution_count": null,
      "outputs": []
    },
    {
      "cell_type": "code",
      "source": [
        "1+int(ord(\"w\"))"
      ],
      "metadata": {
        "id": "7pHAi-6qlm-Q"
      },
      "execution_count": null,
      "outputs": []
    },
    {
      "cell_type": "markdown",
      "source": [
        "#dictionary"
      ],
      "metadata": {
        "id": "p0EYJb6Llv51"
      }
    },
    {
      "cell_type": "code",
      "source": [
        "#mutable datatype\n",
        "#it is sequaence\n",
        "# it is also heterogeneous data type\n",
        "#collection of key-value pair\n",
        "#key-value is called item\n",
        "#keys and values are seperted by \":\"\n",
        "#items are seperated by \",\"\n",
        "#keys are immuatble and no duplications\n",
        "#values mutables it allows duplicates\n"
      ],
      "metadata": {
        "id": "4q40jKODlxsz"
      },
      "execution_count": null,
      "outputs": []
    },
    {
      "cell_type": "markdown",
      "source": [
        "#syntax:\n",
        "={key:value}"
      ],
      "metadata": {
        "id": "selJ4Ac6mrQy"
      }
    },
    {
      "cell_type": "code",
      "source": [
        "d={}"
      ],
      "metadata": {
        "id": "opq1Pmg_m0Mp"
      },
      "execution_count": null,
      "outputs": []
    },
    {
      "cell_type": "code",
      "source": [
        "print(\"d:\", type(d))"
      ],
      "metadata": {
        "id": "Yw0ToS4Hm5IZ"
      },
      "execution_count": null,
      "outputs": []
    },
    {
      "cell_type": "code",
      "source": [
        "d1={1:\"a\",1:\"a\",2:\"b\"}"
      ],
      "metadata": {
        "id": "bFk-o13Lm-de"
      },
      "execution_count": null,
      "outputs": []
    },
    {
      "cell_type": "code",
      "source": [
        "d1"
      ],
      "metadata": {
        "id": "0Z5EhrqJnRB1"
      },
      "execution_count": null,
      "outputs": []
    },
    {
      "cell_type": "code",
      "source": [
        "d2={1:\"a\",2:\"a\",3:\"b\"}"
      ],
      "metadata": {
        "id": "j7h_yNUynR4M"
      },
      "execution_count": null,
      "outputs": []
    },
    {
      "cell_type": "code",
      "source": [
        "d2"
      ],
      "metadata": {
        "id": "GmpcgOKlnqlL"
      },
      "execution_count": null,
      "outputs": []
    },
    {
      "cell_type": "code",
      "source": [
        "#a string, int or float can be used as key\n",
        "#a tuple that doent contain any list can be as a key.\n",
        "#values can be anything ex: list, string, int, float so on.\n",
        "# values can be change\n",
        "#keys can not change\n",
        "#dict dont have indexing instead we use keys are to access any values.\n",
        "#dict are unordered collection, which means the order is which u have enterd the items in a dict may not be ratined and u may get items in diff. orders.\n"
      ],
      "metadata": {
        "id": "cYM3FdaHn091"
      },
      "execution_count": null,
      "outputs": []
    },
    {
      "cell_type": "code",
      "source": [
        "d3={1:\"a\",2:\"a\",3:\"b\"}"
      ],
      "metadata": {
        "id": "6Xg98Wr3o38E"
      },
      "execution_count": null,
      "outputs": []
    },
    {
      "cell_type": "code",
      "source": [
        "d3.items()"
      ],
      "metadata": {
        "id": "yKf1M8mko9ev"
      },
      "execution_count": null,
      "outputs": []
    },
    {
      "cell_type": "code",
      "source": [
        "d4=d3.copy()"
      ],
      "metadata": {
        "id": "6hgahZHttY5O"
      },
      "execution_count": null,
      "outputs": []
    },
    {
      "cell_type": "code",
      "source": [
        "d4"
      ],
      "metadata": {
        "id": "pNxPqbx2teRC"
      },
      "execution_count": null,
      "outputs": []
    },
    {
      "cell_type": "code",
      "source": [
        "d4.keys()"
      ],
      "metadata": {
        "id": "nX8DAGTRtfDJ"
      },
      "execution_count": null,
      "outputs": []
    },
    {
      "cell_type": "code",
      "source": [
        "d4.values()"
      ],
      "metadata": {
        "id": "SUMe4BjKtkWi"
      },
      "execution_count": null,
      "outputs": []
    },
    {
      "cell_type": "code",
      "source": [
        "#tuple as a key"
      ],
      "metadata": {
        "id": "jFSoe7jXtsXz"
      },
      "execution_count": null,
      "outputs": []
    },
    {
      "cell_type": "code",
      "source": [
        "d5={(1,2):\"a\",2:\"a\",3:\"b\"}"
      ],
      "metadata": {
        "id": "Q8m_dHmqtuor"
      },
      "execution_count": null,
      "outputs": []
    },
    {
      "cell_type": "code",
      "source": [
        "d5"
      ],
      "metadata": {
        "id": "Ql2lBvWmtn-h"
      },
      "execution_count": null,
      "outputs": []
    },
    {
      "cell_type": "code",
      "source": [
        "d6={[1,2]:\"a\",2:\"a\",3:\"b\"}"
      ],
      "metadata": {
        "id": "6R426QWmt0Ll"
      },
      "execution_count": null,
      "outputs": []
    },
    {
      "cell_type": "code",
      "source": [
        "#i cant use list a key"
      ],
      "metadata": {
        "id": "gQuUnxwtt-fh"
      },
      "execution_count": null,
      "outputs": []
    },
    {
      "cell_type": "code",
      "source": [
        "t1=(1,2,[])"
      ],
      "metadata": {
        "id": "uqDhEfXVuMU3"
      },
      "execution_count": null,
      "outputs": []
    },
    {
      "cell_type": "code",
      "source": [
        "t1[2].append(2)"
      ],
      "metadata": {
        "id": "DdX2-K_PuQ__"
      },
      "execution_count": null,
      "outputs": []
    },
    {
      "cell_type": "code",
      "source": [
        "t1"
      ],
      "metadata": {
        "id": "BZTL3Lk7uaXM"
      },
      "execution_count": null,
      "outputs": []
    },
    {
      "cell_type": "code",
      "source": [
        "d1"
      ],
      "metadata": {
        "id": "S2cG3azwubKc"
      },
      "execution_count": null,
      "outputs": []
    },
    {
      "cell_type": "code",
      "source": [
        "d1[1]"
      ],
      "metadata": {
        "id": "eWmzfLsCukFr"
      },
      "execution_count": null,
      "outputs": []
    },
    {
      "cell_type": "code",
      "source": [
        "d1[1]=3"
      ],
      "metadata": {
        "id": "DVC2JOWautbN"
      },
      "execution_count": null,
      "outputs": []
    },
    {
      "cell_type": "code",
      "source": [
        "d1"
      ],
      "metadata": {
        "id": "f5o_BL20uo1b"
      },
      "execution_count": null,
      "outputs": []
    },
    {
      "cell_type": "code",
      "source": [
        "d1.clear()"
      ],
      "metadata": {
        "id": "RarjEzACuye1"
      },
      "execution_count": null,
      "outputs": []
    },
    {
      "cell_type": "code",
      "source": [
        "d1"
      ],
      "metadata": {
        "id": "AaXto9ibu6t2"
      },
      "execution_count": null,
      "outputs": []
    },
    {
      "cell_type": "code",
      "source": [
        "d6={1:\"a\",2:\"a\",3:\"b\"}"
      ],
      "metadata": {
        "id": "hbDC3tXIu7rC"
      },
      "execution_count": null,
      "outputs": []
    },
    {
      "cell_type": "code",
      "source": [
        "d6.pop(1)"
      ],
      "metadata": {
        "id": "pQde2cfvvIId"
      },
      "execution_count": null,
      "outputs": []
    },
    {
      "cell_type": "code",
      "source": [
        "d6"
      ],
      "metadata": {
        "id": "1WimEtXAvMD4"
      },
      "execution_count": null,
      "outputs": []
    },
    {
      "cell_type": "code",
      "source": [
        "d6.popitem()"
      ],
      "metadata": {
        "id": "9XxqiezWvQ58"
      },
      "execution_count": null,
      "outputs": []
    },
    {
      "cell_type": "code",
      "source": [
        "d6.fromkeys([1,2])"
      ],
      "metadata": {
        "id": "EAVaz-2ivUvp"
      },
      "execution_count": null,
      "outputs": []
    },
    {
      "cell_type": "code",
      "source": [
        "d7={}\n",
        "d7.fromkeys((1,2))"
      ],
      "metadata": {
        "id": "oe4br3YZveCA"
      },
      "execution_count": null,
      "outputs": []
    },
    {
      "cell_type": "code",
      "source": [
        "d7.update([1])"
      ],
      "metadata": {
        "id": "xrrrGSzmvr9E"
      },
      "execution_count": null,
      "outputs": []
    },
    {
      "cell_type": "code",
      "source": [
        "car = {\n",
        "  \"brand\": \"Ford\",\n",
        "  \"model\": \"Mustang\",\n",
        "  \"year\": 1964\n",
        "}\n",
        "\n",
        "car.update([(\"color\", \"White\")])\n",
        "\n",
        "print(car)"
      ],
      "metadata": {
        "id": "_5MPh0_YwZQK"
      },
      "execution_count": null,
      "outputs": []
    },
    {
      "cell_type": "code",
      "source": [
        "car = {\n",
        "  \"brand\": \"Ford\",\n",
        "  \"model\": \"Mustang\",\n",
        "  \"year\": 1964\n",
        "}\n",
        "\n",
        "car.setdefault(\"ganesh\",\"white\")\n",
        "\n",
        "print(car)"
      ],
      "metadata": {
        "id": "0oh--fLGw6Fg"
      },
      "execution_count": null,
      "outputs": []
    },
    {
      "cell_type": "code",
      "source": [
        "car.get(\"brand\",\"ganesh\")"
      ],
      "metadata": {
        "id": "BRsL673iw3PE"
      },
      "execution_count": null,
      "outputs": []
    },
    {
      "cell_type": "code",
      "source": [
        "del car[\"brand\"]"
      ],
      "metadata": {
        "id": "wPI-kCzOxw5j"
      },
      "execution_count": null,
      "outputs": []
    },
    {
      "cell_type": "code",
      "source": [
        "car"
      ],
      "metadata": {
        "id": "-vdUcjIXxa5O"
      },
      "execution_count": null,
      "outputs": []
    },
    {
      "cell_type": "code",
      "source": [
        "#upsert update adding both same\n",
        "#add and insert both are same."
      ],
      "metadata": {
        "id": "dy4a4y8Dx5bv"
      },
      "execution_count": null,
      "outputs": []
    },
    {
      "cell_type": "code",
      "source": [
        "car[\"bmw\"]=\"mycar\""
      ],
      "metadata": {
        "id": "AByicdkyyQ5B"
      },
      "execution_count": null,
      "outputs": []
    },
    {
      "cell_type": "code",
      "source": [
        "car"
      ],
      "metadata": {
        "id": "L1erjOiMyWvd"
      },
      "execution_count": null,
      "outputs": []
    },
    {
      "cell_type": "code",
      "source": [
        "#syntax adding and updating both are same"
      ],
      "metadata": {
        "id": "mx3Vqo2TyXgr"
      },
      "execution_count": null,
      "outputs": []
    },
    {
      "cell_type": "code",
      "source": [
        "car"
      ],
      "metadata": {
        "id": "rw4DYBvwypCj"
      },
      "execution_count": null,
      "outputs": []
    },
    {
      "cell_type": "code",
      "source": [
        "mycar=car.copy()"
      ],
      "metadata": {
        "id": "tkU1tTY8yp66"
      },
      "execution_count": null,
      "outputs": []
    },
    {
      "cell_type": "code",
      "source": [
        "id(car)==id(mycar)"
      ],
      "metadata": {
        "id": "PEzZ8fFwywXb"
      },
      "execution_count": null,
      "outputs": []
    },
    {
      "cell_type": "code",
      "source": [
        "print(car[\"model\"])"
      ],
      "metadata": {
        "id": "kX58nxmQy9hY"
      },
      "execution_count": null,
      "outputs": []
    },
    {
      "cell_type": "code",
      "source": [
        "print(car[\"model1\"])"
      ],
      "metadata": {
        "id": "GTx35iDszC8b"
      },
      "execution_count": null,
      "outputs": []
    },
    {
      "cell_type": "code",
      "source": [
        "\"model1\" in car"
      ],
      "metadata": {
        "id": "8DXm5cUuzMgH"
      },
      "execution_count": null,
      "outputs": []
    },
    {
      "cell_type": "code",
      "source": [
        "\"model\" in car"
      ],
      "metadata": {
        "id": "oMi__2LIzO4g"
      },
      "execution_count": null,
      "outputs": []
    },
    {
      "cell_type": "code",
      "source": [
        "k=input(\"enter the key:\")\n",
        "if k in car:\n",
        "    print(car[k])\n",
        "else:\n",
        "    print(\"not found\")"
      ],
      "metadata": {
        "id": "ogY2p3P0zaei"
      },
      "execution_count": null,
      "outputs": []
    },
    {
      "cell_type": "code",
      "source": [
        "d1={1:1,2:2}\n",
        "d2={3:3,4:4}"
      ],
      "metadata": {
        "id": "Kke8gOVv0OCB"
      },
      "execution_count": null,
      "outputs": []
    },
    {
      "cell_type": "code",
      "source": [
        "d1.update(d2)"
      ],
      "metadata": {
        "id": "KeDIGIOg0Y0F"
      },
      "execution_count": null,
      "outputs": []
    },
    {
      "cell_type": "code",
      "source": [
        "d1"
      ],
      "metadata": {
        "id": "e-RKs0qt0cNa"
      },
      "execution_count": null,
      "outputs": []
    },
    {
      "cell_type": "code",
      "source": [
        "l1=[(1,2),(2,3)]"
      ],
      "metadata": {
        "id": "K3lvA8380d_D"
      },
      "execution_count": null,
      "outputs": []
    },
    {
      "cell_type": "code",
      "source": [
        "dict(l1)"
      ],
      "metadata": {
        "id": "IQWRLzV606sr"
      },
      "execution_count": null,
      "outputs": []
    },
    {
      "cell_type": "code",
      "source": [
        "l1=([1,2],[2,3])\n",
        "dict(l1)"
      ],
      "metadata": {
        "id": "EXYBxKzZ0-Yr"
      },
      "execution_count": null,
      "outputs": []
    },
    {
      "cell_type": "code",
      "source": [
        "d1={1:1,2:2}\n",
        "d2={2:2,4:4}"
      ],
      "metadata": {
        "id": "_qVFBiWw1ItL"
      },
      "execution_count": null,
      "outputs": []
    },
    {
      "cell_type": "code",
      "source": [
        "d1"
      ],
      "metadata": {
        "id": "CqZ3hhLp1hCm"
      },
      "execution_count": null,
      "outputs": []
    },
    {
      "cell_type": "code",
      "source": [
        "d1.update(d2)"
      ],
      "metadata": {
        "id": "J85FjCN71a1z"
      },
      "execution_count": null,
      "outputs": []
    },
    {
      "cell_type": "code",
      "source": [
        "#your next dictionary should not contain same item"
      ],
      "metadata": {
        "id": "OBU1vm2Y1mvc"
      },
      "execution_count": null,
      "outputs": []
    },
    {
      "cell_type": "code",
      "source": [
        "d=10 milion items"
      ],
      "metadata": {
        "id": "Aic290tF1xaL"
      },
      "execution_count": null,
      "outputs": []
    },
    {
      "cell_type": "code",
      "source": [
        "d.keys 10M elements\n",
        "#time complexity, space complexity python 2"
      ],
      "metadata": {
        "id": "yaiw2mES123n"
      },
      "execution_count": null,
      "outputs": []
    },
    {
      "cell_type": "code",
      "source": [
        "import sys\n",
        "sys.getsizeof(car.keys())"
      ],
      "metadata": {
        "id": "8V4Ohtdy2JKM"
      },
      "execution_count": null,
      "outputs": []
    },
    {
      "cell_type": "code",
      "source": [
        "car[\"iphone\"]=\"ir\""
      ],
      "metadata": {
        "id": "yOL7azRV2TwJ"
      },
      "execution_count": null,
      "outputs": []
    },
    {
      "cell_type": "code",
      "source": [
        "car"
      ],
      "metadata": {
        "id": "Pxaf1-6y2ggB"
      },
      "execution_count": null,
      "outputs": []
    },
    {
      "cell_type": "code",
      "source": [
        "#python space complexity fixed\n",
        "car.keys()"
      ],
      "metadata": {
        "id": "sPSIoXPx2hkr"
      },
      "execution_count": null,
      "outputs": []
    },
    {
      "cell_type": "code",
      "source": [
        "l=[]\n",
        "for i in car.keys():\n",
        "    l.append(i)\n",
        "print(l)"
      ],
      "metadata": {
        "id": "FGDz6NI22xmc"
      },
      "execution_count": null,
      "outputs": []
    },
    {
      "cell_type": "code",
      "source": [
        "#range()------>car.keys()\n",
        "list(range(10))"
      ],
      "metadata": {
        "id": "XaOOzg9k2_JO"
      },
      "execution_count": null,
      "outputs": []
    },
    {
      "cell_type": "code",
      "source": [
        "list(car.keys())"
      ],
      "metadata": {
        "id": "RVDjr40M3Pet"
      },
      "execution_count": null,
      "outputs": []
    },
    {
      "cell_type": "code",
      "source": [
        "for i in car.values():\n",
        "    print(i)\n"
      ],
      "metadata": {
        "id": "fQYMJquj4Bdx"
      },
      "execution_count": null,
      "outputs": []
    },
    {
      "cell_type": "code",
      "source": [
        "for i in car.items():\n",
        "    print(i)"
      ],
      "metadata": {
        "id": "-GzMFhgT4F3I"
      },
      "execution_count": null,
      "outputs": []
    },
    {
      "cell_type": "code",
      "source": [
        "for i in car.items():\n",
        "    k,v=i\n",
        "    print(k,v)"
      ],
      "metadata": {
        "id": "dB8Kc-lS4JNH"
      },
      "execution_count": null,
      "outputs": []
    },
    {
      "cell_type": "code",
      "source": [
        "for k,v in car.items():\n",
        "    #k,v=i\n",
        "    print(k,v)"
      ],
      "metadata": {
        "id": "gWlr50a24Y2o"
      },
      "execution_count": null,
      "outputs": []
    },
    {
      "cell_type": "code",
      "source": [
        "#in dictionary the standard for loop syntax is\n",
        "for k,v in car.items():\n",
        "    print(k,v)\n"
      ],
      "metadata": {
        "id": "Co3eFfGy4m36"
      },
      "execution_count": null,
      "outputs": []
    },
    {
      "cell_type": "code",
      "source": [
        "for k,v in car.items():\n",
        "    if k==\"year\":\n",
        "        del car[k]\n",
        "    print(k,v)\n"
      ],
      "metadata": {
        "id": "amgwUXqF42t6"
      },
      "execution_count": null,
      "outputs": []
    },
    {
      "cell_type": "code",
      "source": [
        "for k,v in list(car.items()):\n",
        "    if k==\"year\":\n",
        "        del car[k]\n",
        "    print(k,v)\n"
      ],
      "metadata": {
        "id": "PThybq5M5Qco"
      },
      "execution_count": null,
      "outputs": []
    },
    {
      "cell_type": "code",
      "source": [
        "print(sys.getsizeof(car.items()))"
      ],
      "metadata": {
        "id": "VEX8CnWO5Wzi"
      },
      "execution_count": null,
      "outputs": []
    },
    {
      "cell_type": "code",
      "source": [
        "#make a dictionary from list\n",
        "l1=[[1,2],[3,4]]\n",
        "dict(l1)"
      ],
      "metadata": {
        "id": "wmEphMB_5Fsr"
      },
      "execution_count": null,
      "outputs": []
    },
    {
      "cell_type": "code",
      "source": [
        "l2=[1,2,3]\n",
        "dict(l2)"
      ],
      "metadata": {
        "id": "G3b_nugj55kv"
      },
      "execution_count": null,
      "outputs": []
    },
    {
      "cell_type": "code",
      "source": [
        "l3=[1,2,3]\n",
        "l4=[\"a\",\"b\",\"c\"]\n",
        "len1=min(len(l3),len(l4))#3\n",
        "dict1={}\n",
        "for i in range(len1):#0,1,2\n",
        "    dict1[l3[i]]=l4[i]#adding or updation\n",
        "print(dict1)"
      ],
      "metadata": {
        "id": "As-Ix_IW6EWF"
      },
      "execution_count": null,
      "outputs": []
    },
    {
      "cell_type": "code",
      "source": [
        "list1=[1,2,3,4]\n",
        "expected is 1, 4, 9, 16"
      ],
      "metadata": {
        "id": "IBlbHxax7hBc"
      },
      "execution_count": null,
      "outputs": []
    },
    {
      "cell_type": "code",
      "source": [],
      "metadata": {
        "id": "SN5tF6086nnH"
      },
      "execution_count": null,
      "outputs": []
    }
  ]
}